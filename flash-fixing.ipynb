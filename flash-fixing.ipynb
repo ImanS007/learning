{
 "cells": [
  {
   "cell_type": "markdown",
   "id": "23f89053-1cd7-4492-890f-a2f71231ee63",
   "metadata": {
    "slideshow": {
     "slide_type": "slide"
    }
   },
   "source": [
    "# <center>Flash</center>"
   ]
  },
  {
   "cell_type": "markdown",
   "id": "90edd0e6-28f4-47cf-8449-c2f7805022c3",
   "metadata": {
    "slideshow": {
     "slide_type": "subslide"
    },
    "tags": []
   },
   "source": [
    "## <font color='green'>Formatting on windows</font> "
   ]
  },
  {
   "cell_type": "markdown",
   "id": "216a6c85-7640-4d99-9947-e40ae386fd82",
   "metadata": {
    "slideshow": {
     "slide_type": "slide"
    }
   },
   "source": [
    "1. Press <font color='red'>**\"Windows + R keys\"**</font> to open Run window. Type <font color='red'>**\"Diskpart\"**</font> into the search box and press the Enter key.\n",
    "\n",
    "2. Now type <font color='red'>**\"list disk\"**</font> and hit Enter.\n",
    "\n",
    "3. Then type <font color='red'>**\"select disk X\"**</font> (replace X with the disk number of your bootable USB drive).\n",
    "\n",
    "4. Type <font color='red'>**\"clean\"**</font> and press Enter, which will wipe all your Bios boot files present on the USB drive.\n",
    "\n",
    "5. Execute the <font color='red'>**\"convert mbr\"**</font> command to create a new partition table on the USB stick. (if the flash used for tails or openwrt, ...)\n",
    "\n",
    "6. Now type <font color='red'>**\"create partition primary\"**</font> into your window and press Enter key. This will help create a partition on this bootable USB drive.\n",
    "\n",
    "7. To continue, type <font color='red'>**\"format fs=ntfs quick\"**</font> based on the file system you prefer. Again, press the Enter key.\n",
    "\n",
    "\n",
    "\n"
   ]
  },
  {
   "cell_type": "markdown",
   "id": "db0ef0e6-d60c-4503-876e-859d4d0ef49f",
   "metadata": {
    "cell_style": "center",
    "slideshow": {
     "slide_type": "slide"
    }
   },
   "source": [
    "## <font color='green'>Fixed flash if show -no media- (on windows)</font>"
   ]
  },
  {
   "cell_type": "markdown",
   "id": "93f8d73f-58c9-49d5-a158-f55076dba202",
   "metadata": {
    "slideshow": {
     "slide_type": "slide"
    }
   },
   "source": [
    "1. Use this app {{ ChipEasy 1.5.6.6 }} to find controller model\n",
    "\n",
    "2. Search controller model on -> google & فلش or -> usbdev.ru or -> app that is below Then run\n",
    "\n",
    "3. Format the flash"
   ]
  }
 ],
 "metadata": {
  "celltoolbar": "Slideshow",
  "gist": {
   "data": {
    "description": "flash-fixing.ipynb",
    "public": true
   },
   "id": ""
  },
  "kernelspec": {
   "display_name": "Python 3 (ipykernel)",
   "language": "python",
   "name": "python3"
  },
  "language_info": {
   "codemirror_mode": {
    "name": "ipython",
    "version": 3
   },
   "file_extension": ".py",
   "mimetype": "text/x-python",
   "name": "python",
   "nbconvert_exporter": "python",
   "pygments_lexer": "ipython3",
   "version": "3.10.9"
  },
  "toc": {
   "base_numbering": 1,
   "nav_menu": {},
   "number_sections": true,
   "sideBar": true,
   "skip_h1_title": false,
   "title_cell": "Table of Contents",
   "title_sidebar": "Contents",
   "toc_cell": false,
   "toc_position": {},
   "toc_section_display": true,
   "toc_window_display": true
  }
 },
 "nbformat": 4,
 "nbformat_minor": 5
}
